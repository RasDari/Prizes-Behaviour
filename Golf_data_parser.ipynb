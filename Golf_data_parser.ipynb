{
 "cells": [
  {
   "cell_type": "code",
   "execution_count": 1,
   "id": "df5de9a1",
   "metadata": {},
   "outputs": [],
   "source": [
    "import requests as rq\n",
    "import pandas as pd\n",
    "import json\n",
    "import re\n",
    "from bs4 import BeautifulSoup as BS\n",
    "from numpy import NaN\n",
    "from tqdm import tqdm\n",
    "from functools import reduce"
   ]
  },
  {
   "cell_type": "code",
   "execution_count": 2,
   "id": "f3d94d03",
   "metadata": {},
   "outputs": [],
   "source": [
    "def get_page(YEAR = 2024, TOURN = None, ROUND = 1):\n",
    "    X_API_KEY = \"da2-gsrx5bibzbb4njvhl7t37wqyl4\"\n",
    "    \n",
    "    rounds = {1: '148', 2: '149', 3: \"117\", 4: '285'}\n",
    "\n",
    "    if TOURN == None:\n",
    "        event_query = None\n",
    "    else:\n",
    "        if str(YEAR) != TOURN[1:5]:\n",
    "            return 'YEAR AND TOURNAMENT ID NOT MATCHED'\n",
    "    \n",
    "        event_query = {\n",
    "            \"queryType\": \"EVENT_ONLY\",\n",
    "            \"tournamentId\": TOURN\n",
    "        }\n",
    "    payload = {\n",
    "      \"operationName\": \"StatDetails\",\n",
    "      \"variables\": {\n",
    "        \"tourCode\": \"R\",\n",
    "        \"statId\": rounds[ROUND],\n",
    "        \"year\": YEAR,\n",
    "        \"eventQuery\": event_query\n",
    "      },\n",
    "      \"query\": \"query StatDetails($tourCode: TourCode!, $statId: String!, $year: Int, $eventQuery: StatDetailEventQuery) {\\n  statDetails(\\n    tourCode: $tourCode\\n    statId: $statId\\n    year: $year\\n    eventQuery: $eventQuery\\n  ) {\\n    __typename\\n    tourCode\\n    year\\n    displaySeason\\n    statId\\n    statType\\n    tournamentPills {\\n      tournamentId\\n      displayName\\n    }\\n    yearPills {\\n      year\\n      displaySeason\\n    }\\n    statTitle\\n    statDescription\\n    tourAvg\\n    lastProcessed\\n    statHeaders\\n    statCategories {\\n      category\\n      displayName\\n      subCategories {\\n        displayName\\n        stats {\\n          statId\\n          statTitle\\n        }\\n      }\\n    }\\n    rows {\\n      ... on StatDetailsPlayer {\\n        __typename\\n        playerId\\n        playerName\\n        country\\n        countryFlag\\n        rank\\n        rankDiff\\n        rankChangeTendency\\n        stats {\\n          statName\\n          statValue\\n          color\\n        }\\n      }\\n      ... on StatDetailTourAvg {\\n        __typename\\n        displayName\\n        value\\n      }\\n    }\\n    sponsorLogo\\n  }\\n}\"\n",
    "    }\n",
    "    \n",
    "    page = json.loads(\n",
    "        rq.post(\"https://orchestrator.pgatour.com/graphql\", json = payload, headers = {\"x-api-key\": X_API_KEY}).text\n",
    "    )\n",
    "    return page"
   ]
  },
  {
   "cell_type": "code",
   "execution_count": 3,
   "id": "b150d482",
   "metadata": {},
   "outputs": [],
   "source": [
    "def competitions(year1 = 2023, year2 = 2024):\n",
    "    years = {}\n",
    "    for year in range(year1, year2 + 1):\n",
    "        years[year] = [\n",
    "            comp for comp in get_page(YEAR = year)[\"data\"]['statDetails']['tournamentPills']\n",
    "        ]\n",
    "    return years"
   ]
  },
  {
   "cell_type": "code",
   "execution_count": 4,
   "id": "9309c977",
   "metadata": {},
   "outputs": [],
   "source": [
    "def get_points_since(YEAR = 2023, ROUND = 1):\n",
    "    years = competitions(YEAR, 2024)\n",
    "    all = []\n",
    "    for year in range(YEAR, 2025):\n",
    "        tourns_year = []\n",
    "        for tourn in range(0, len(years[year])):\n",
    "            data = [i for i in get_page(year, years[year][tourn]['tournamentId'], ROUND)['data']['statDetails']['rows'] \n",
    "                    if len(i) > 3]\n",
    "            for j in range(0, len(data)):\n",
    "                    data[j].update([('year', year), ('tournament', years[year][tourn]['displayName'])])\n",
    "                    data[j]['rank'] = j + 1\n",
    "            tourns_year += data\n",
    "        all += tourns_year\n",
    "    table = pd.DataFrame(\n",
    "        map(lambda item: {\n",
    "            \"RANK\": item[\"rank\"],\n",
    "            \"ROUND \" + str(ROUND): item[\"stats\"][0][\"statValue\"],\n",
    "            \"YEAR\": item['year'],\n",
    "            \"TOURNAMENT\": item['tournament']\n",
    "        }, all))\n",
    "    return table"
   ]
  },
  {
   "cell_type": "code",
   "execution_count": 5,
   "id": "9a595db6",
   "metadata": {},
   "outputs": [],
   "source": [
    "def final_data(YEAR = 2023):\n",
    "    rounds = []\n",
    "    for rnd in tqdm(range(1, 5)):\n",
    "        r = get_points_since(YEAR, rnd)\n",
    "        rounds.append(r)\n",
    "    df_merged = reduce(lambda  left, right: \n",
    "                       pd.merge(left, right,on=['RANK', 'YEAR', 'TOURNAMENT'],\n",
    "                                                how = 'outer'), rounds)\n",
    "    return df_merged"
   ]
  },
  {
   "cell_type": "code",
   "execution_count": 6,
   "id": "dceb7f09",
   "metadata": {},
   "outputs": [
    {
     "name": "stderr",
     "output_type": "stream",
     "text": [
      "100%|███████████████████████████████████████████████████████████████████████████████████| 4/4 [42:44<00:00, 641.03s/it]\n"
     ]
    }
   ],
   "source": [
    "data = final_data(2000)"
   ]
  },
  {
   "cell_type": "code",
   "execution_count": 7,
   "id": "fb8aff93",
   "metadata": {},
   "outputs": [],
   "source": [
    "data.to_csv('golf_data.csv')"
   ]
  }
 ],
 "metadata": {
  "kernelspec": {
   "display_name": "Python 3 (ipykernel)",
   "language": "python",
   "name": "python3"
  },
  "language_info": {
   "codemirror_mode": {
    "name": "ipython",
    "version": 3
   },
   "file_extension": ".py",
   "mimetype": "text/x-python",
   "name": "python",
   "nbconvert_exporter": "python",
   "pygments_lexer": "ipython3",
   "version": "3.9.7"
  }
 },
 "nbformat": 4,
 "nbformat_minor": 5
}
